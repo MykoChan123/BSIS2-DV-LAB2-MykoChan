{
  "nbformat": 4,
  "nbformat_minor": 0,
  "metadata": {
    "colab": {
      "provenance": [],
      "authorship_tag": "ABX9TyO9we/cLu8BPsieDQeE1ltF",
      "include_colab_link": true
    },
    "kernelspec": {
      "name": "python3",
      "display_name": "Python 3"
    },
    "language_info": {
      "name": "python"
    }
  },
  "cells": [
    {
      "cell_type": "markdown",
      "metadata": {
        "id": "view-in-github",
        "colab_type": "text"
      },
      "source": [
        "<a href=\"https://colab.research.google.com/github/MykoChan123/BSIS2-DV-LAB2-MykoChan/blob/main/CALCULATOR_BY_MYKO_CHAN.ipynb\" target=\"_parent\"><img src=\"https://colab.research.google.com/assets/colab-badge.svg\" alt=\"Open In Colab\"/></a>"
      ]
    },
    {
      "cell_type": "code",
      "execution_count": null,
      "metadata": {
        "colab": {
          "base_uri": "https://localhost:8080/"
        },
        "id": "zAPkijzYXr24",
        "outputId": "c7921fc6-313e-481d-b247-ddc88216bb68"
      },
      "outputs": [
        {
          "output_type": "stream",
          "name": "stdout",
          "text": [
            "Input a Number12\n",
            "Input a Number9\n",
            "Sum:21 Difference:3 Product:108 Qoutient:1.3333333333333333 Remainder:3 Exponential:5159780352\n"
          ]
        }
      ],
      "source": [
        "A = int(input(\"Input a Number\"))\n",
        "B = int(input(\"Input a Number\"))\n",
        "\n",
        "sum = A + B\n",
        "dif = A - B\n",
        "pro = A * B\n",
        "qou = A / B\n",
        "remain = A % B\n",
        "exp = A ** B\n",
        "\n",
        "\n",
        "print(\"Sum:\"+ str(sum), \"Difference:\" + str(dif), \"Product:\" + str(pro) \n",
        ", \"Qoutient:\" + str(qou),\"Remainder:\" + str(remain), \"Exponential:\" + str(exp) )"
      ]
    }
  ]
}